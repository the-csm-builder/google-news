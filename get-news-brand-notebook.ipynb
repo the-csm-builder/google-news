{
 "cells": [
  {
   "cell_type": "markdown",
   "metadata": {},
   "source": [
    "## Sign up for News API (old Google news API)\n",
    "* Enter search keyword.\n",
    "* Adjust from date and end time\n",
    "* Save results to .csv file"
   ]
  },
  {
   "cell_type": "code",
   "execution_count": 1,
   "metadata": {},
   "outputs": [],
   "source": [
    "from datetime import datetime, timezone, timedelta\n",
    "from newsapi import NewsApiClient\n",
    "import pandas as pd\n",
    "\n",
    "today = str(datetime)\n",
    "newsapi = NewsApiClient(api_key='xxx')\n",
    "search = 'xxx'\n",
    "\n",
    "from_date = datetime.now(timezone.utc) + timedelta(days=-7)\n",
    "end_time = datetime.now(timezone.utc) + timedelta(days=0)\n",
    "\n",
    "all_articles = newsapi.get_everything(q=search,\n",
    "                                      from_param=from_date,\n",
    "                                      to=end_time,\n",
    "                                      language='en',\n",
    "                                      sort_by='relevancy'\n",
    "                                      )\n",
    "# Create Pandas DataFrame\n",
    "df =pd.DataFrame(all_articles['articles'])\n",
    "df.to_csv(str(datetime.now(timezone.utc)) + '-' + search + '-'+'news.csv')"
   ]
  }
 ],
 "metadata": {
  "kernelspec": {
   "display_name": "Python 3.10.3 64-bit",
   "language": "python",
   "name": "python3"
  },
  "language_info": {
   "codemirror_mode": {
    "name": "ipython",
    "version": 3
   },
   "file_extension": ".py",
   "mimetype": "text/x-python",
   "name": "python",
   "nbconvert_exporter": "python",
   "pygments_lexer": "ipython3",
   "version": "3.10.3"
  },
  "orig_nbformat": 4,
  "vscode": {
   "interpreter": {
    "hash": "aee8b7b246df8f9039afb4144a1f6fd8d2ca17a180786b69acc140d282b71a49"
   }
  }
 },
 "nbformat": 4,
 "nbformat_minor": 2
}
