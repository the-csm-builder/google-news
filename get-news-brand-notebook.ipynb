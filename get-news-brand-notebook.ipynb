{
 "cells": [
  {
   "cell_type": "markdown",
   "metadata": {},
   "source": [
    "# Sign up for News API (old Google news API)\n",
    "* Import modules newsapi, pandas, json2html, boto3.\n",
    "* Enter search keyword.\n",
    "* Adjust from date and end time.\n",
    "* Save results to .csv file."
   ]
  },
  {
   "cell_type": "code",
   "execution_count": 2,
   "metadata": {},
   "outputs": [],
   "source": [
    "from datetime import datetime, timezone, timedelta\n",
    "from newsapi import NewsApiClient\n",
    "import pandas as pd\n",
    "from json2html import *\n",
    "import boto3\n",
    "from botocore.exceptions import ClientError\n",
    "\n",
    "today = str(datetime)\n",
    "newsapi = NewsApiClient(api_key='XXX')\n",
    "search = 'XXx'\n",
    "\n",
    "from_date = datetime.now(timezone.utc) + timedelta(days=-7)\n",
    "end_time = datetime.now(timezone.utc) + timedelta(days=0)\n",
    "\n",
    "all_articles = newsapi.get_everything(q=search,\n",
    "                                      from_param=from_date,\n",
    "                                      to=end_time,\n",
    "                                      language='en',\n",
    "                                      sort_by='relevancy'\n",
    "                                      )\n",
    "# Create Pandas DataFrame\n",
    "df =pd.DataFrame(all_articles['articles'])\n",
    "df.to_csv(str(datetime.now(timezone.utc)) + '-' + search + '-'+'news.csv')"
   ]
  },
  {
   "cell_type": "markdown",
   "metadata": {},
   "source": [
    "# Convert json to htlm then send email notification.\n",
    "* Setup AWS SES in order to send email notifications to recipients."
   ]
  },
  {
   "cell_type": "code",
   "execution_count": null,
   "metadata": {},
   "outputs": [],
   "source": [
    "# convert json to html\n",
    "from datetime import date, datetime, timezone, timedelta\n",
    "bodyconverted = json2html.convert(json=all_articles)\n",
    "\n",
    "dt = date.today()\n",
    "iso_date = dt.isoformat()\n",
    "\n",
    "def send_email():\n",
    "    SENDER = \"XXX\"  # must be verified in AWS SES Email\n",
    "    RECIPIENT = \"XXX\"  # must be verified in AWS SES Email\n",
    "    # RECIPIENT2 = \"XXX\" # must be verified in AWS SES Email\n",
    "\n",
    "    # If necessary, replace us-west-2 with the AWS Region you're using for Amazon SES.\n",
    "    AWS_REGION = \"XXX\"\n",
    "\n",
    "    # The subject line for the email.\n",
    "    SUBJECT = search + \"News\" + \":\" + iso_date\n",
    "\n",
    "    # The email body for recipients with non-HTML email clients.\n",
    "    # BODY_TEXT = (itemstring)\n",
    "\n",
    "    # The HTML body of the email.\n",
    "    BODY_HTML = bodyconverted\n",
    "\n",
    "    # The character encoding for the email.\n",
    "    CHARSET = \"UTF-8\"\n",
    "\n",
    "    # Create a new SES resource and specify a region.\n",
    "    client = boto3.client('ses', region_name=AWS_REGION)\n",
    "\n",
    "    # Try to send the email.\n",
    "    try:\n",
    "        # Provide the contents of the email.\n",
    "        response = client.send_email(\n",
    "            Destination={\n",
    "                'ToAddresses': [\n",
    "                    RECIPIENT\n",
    "                   # RECIPIENT2\n",
    "                ],\n",
    "            },\n",
    "            Message={\n",
    "                'Body': {\n",
    "                    'Html': {\n",
    "\n",
    "                        'Data': BODY_HTML\n",
    "                    },\n",
    "                    # 'Text': {\n",
    "\n",
    "                    #     'Data': BODY_TEXT\n",
    "                    # },\n",
    "                },\n",
    "                'Subject': {\n",
    "\n",
    "                    'Data': SUBJECT\n",
    "                },\n",
    "            },\n",
    "            Source=SENDER\n",
    "        )\n",
    "    # Display an error if something goes wrong.\n",
    "    except ClientError as e:\n",
    "        print(e.response['Error']['Message'])\n",
    "    else:\n",
    "        print(\"Email sent! Message ID:\"),\n",
    "        print(response['MessageId'])\n",
    "\n",
    "# uncomment this lambda when moving it to AWS. Will run in container image in lambda\n",
    "\n",
    "# def lambda_handler(event, context):\n",
    "send_email()\n"
   ]
  },
  {
   "cell_type": "markdown",
   "metadata": {},
   "source": [
    "# Get notifications on SNS (email or text)\n",
    "* Setup SNS in AWS\n",
    "* Setup Subscriptions on SNS Topic ARN"
   ]
  },
  {
   "cell_type": "code",
   "execution_count": null,
   "metadata": {},
   "outputs": [],
   "source": [
    "import json\n",
    "import logging\n",
    "\n",
    "# Initialize logger and set log level\n",
    "logger = logging.getLogger()\n",
    "logger.setLevel(logging.INFO)\n",
    "\n",
    "def send_sns():\n",
    "   notification = all_articles\n",
    "   client = boto3.client('sns')\n",
    "   response = client.publish (\n",
    "      TargetArn = \"XXX\",\n",
    "      # PhoneNumber = 'XXX',\n",
    "      Message = json.dumps(notification, indent=4, sort_keys=False),\n",
    "      Subject = search + \"News\" + \":\",\n",
    "      MessageStructure = 'str'\n",
    "   )\n",
    "   logger.info(response)\n",
    "   \n",
    "   return {\n",
    "      'statusCode': 200,\n",
    "      'body': json.dumps(response)\n",
    "   }\n",
    "send_sns()"
   ]
  }
 ],
 "metadata": {
  "kernelspec": {
   "display_name": "Python 3.10.3 64-bit",
   "language": "python",
   "name": "python3"
  },
  "language_info": {
   "codemirror_mode": {
    "name": "ipython",
    "version": 3
   },
   "file_extension": ".py",
   "mimetype": "text/x-python",
   "name": "python",
   "nbconvert_exporter": "python",
   "pygments_lexer": "ipython3",
   "version": "3.10.3"
  },
  "orig_nbformat": 4,
  "vscode": {
   "interpreter": {
    "hash": "aee8b7b246df8f9039afb4144a1f6fd8d2ca17a180786b69acc140d282b71a49"
   }
  }
 },
 "nbformat": 4,
 "nbformat_minor": 2
}
